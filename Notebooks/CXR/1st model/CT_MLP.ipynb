{
 "cells": [
  {
   "cell_type": "code",
   "execution_count": 24,
   "id": "indoor-siemens",
   "metadata": {
    "ExecuteTime": {
     "end_time": "2021-04-09T15:27:41.642151Z",
     "start_time": "2021-04-09T15:27:17.256168Z"
    },
    "tags": []
   },
   "outputs": [
    {
     "output_type": "stream",
     "name": "stdout",
     "text": [
      "Epoch 1/4\n",
      "53/53 [==============================] - 2s 30ms/step - loss: 0.6293 - accuracy: 0.6103\n",
      "Epoch 2/4\n",
      "53/53 [==============================] - 2s 30ms/step - loss: 0.1034 - accuracy: 0.9506\n",
      "Epoch 3/4\n",
      "53/53 [==============================] - 2s 31ms/step - loss: 0.0413 - accuracy: 0.9861\n",
      "Epoch 4/4\n",
      "53/53 [==============================] - 2s 30ms/step - loss: 0.0249 - accuracy: 0.9912\n"
     ]
    },
    {
     "output_type": "execute_result",
     "data": {
      "text/plain": [
       "<tensorflow.python.keras.callbacks.History at 0x10536baccd0>"
      ]
     },
     "metadata": {},
     "execution_count": 24
    }
   ],
   "source": [
    "import cv2\n",
    "import numpy as np\n",
    "import os\n",
    "from random import shuffle\n",
    "import matplotlib.pyplot as plt\n",
    "import pickle\n",
    "import tensorflow as tf\n",
    "from PIL import Image\n",
    "train=r\"C:/Users/omara/originPNG\"\n",
    "cat=[\"NORMAL\",\"PNEUMONIA\"]\n",
    "single=r\"C:/Users/omara/test\"\n",
    "cat_2=[]\n",
    "\n",
    "data=[]\n",
    "test=[]\n",
    "Model=\"CT\"\n",
    "for i in cat:\n",
    "    path=os.path.join(train,i)\n",
    "    path_2=os.path.join(single,i)\n",
    "    label=cat.index(i)\n",
    "    for img in os.listdir(path):\n",
    "        img_path=os.path.join(path,img)\n",
    "        img_arr=cv2.imread(img_path,0)\n",
    "        #img_arr = tf.reshape(img_arr, [-1, 256, 256, 3])\n",
    "        #print(img_arr)\n",
    "        #img_arr=tf.image.resize(img_arr, [256,256])#no need\n",
    "        data.append([img_arr,label])\n",
    "    for img in os.listdir(path_2):\n",
    "        img_path=os.path.join(path_2,img)\n",
    "        img_arr=cv2.imread(img_path,0)# will result in input shape(256,256) instead of (256,256,3)\n",
    "        #img_arr=tf.image.resize(img_arr, [256,256])#no need \n",
    "        test.append([img_arr,label])     \n",
    "shuffle(data)\n",
    "shuffle(test)# no need in acutuality but to stay consistent\n",
    "#print(len(data))\n",
    "x=[]\n",
    "y=[]\n",
    "x_test=[]\n",
    "y_test=[]\n",
    "for features,labels in data:\n",
    "    x.append(features)\n",
    "    y.append(labels)\n",
    "for features,labels in test:\n",
    "    x_test.append(features)\n",
    "    y_test.append(labels)\n",
    "x_test=np.array(x_test)\n",
    "y_test=np.array(y_test)\n",
    "x=np.array(x)\n",
    "y=np.array(y)\n",
    "\n",
    "#pickle.dump(x,open(\"x.pkl\",'wb'))\n",
    "#pickle.dump(y,open(\"y.pkl\",'wb'))\n",
    "x=tf.keras.utils.normalize(x,axis=1)\n",
    "x_test=tf.keras.utils.normalize(x_test,axis=1)\n",
    "x/=255\n",
    "x_test/=255\n",
    "model=tf.keras.models.Sequential()\n",
    "model.add(tf.keras.layers.Flatten())\n",
    "model.add(tf.keras.layers.Dense(128,activation=tf.nn.relu))\n",
    "model.add(tf.keras.layers.Dense(128,activation=tf.nn.relu))\n",
    "model.add(tf.keras.layers.Dense(128,activation=tf.nn.relu))\n",
    "model.add(tf.keras.layers.Dense(128,activation=tf.nn.relu))\n",
    "model.add(tf.keras.layers.Dense(128,activation=tf.nn.sigmoid))\n",
    "model.add(tf.keras.layers.Dense(2,activation=tf.nn.softmax))\n",
    "model.compile(optimizer=\"adam\",loss=\"sparse_categorical_crossentropy\",metrics=['accuracy'])#or \n",
    "model.fit(x,y,epochs=4)"
   ]
  },
  {
   "cell_type": "code",
   "execution_count": 25,
   "id": "later-sixth",
   "metadata": {
    "ExecuteTime": {
     "end_time": "2021-04-09T15:22:02.119196Z",
     "start_time": "2021-04-09T15:22:01.700482Z"
    }
   },
   "outputs": [
    {
     "output_type": "stream",
     "name": "stdout",
     "text": [
      "9/9 [==============================] - 0s 7ms/step - loss: 0.9624 - accuracy: 0.6838\n"
     ]
    }
   ],
   "source": [
    "loss,win=model.evaluate(x_test,y_test)#evaluate on model full of covid cases for simplicity\n",
    "#print(loss,win)\n",
    "#print(np.argmax(predictions[0])) # varification\n",
    "#plt.imshow(x[34],cmap=plt.cm.binary)#sample 34\n",
    "#print(y[34])"
   ]
  },
  {
   "cell_type": "code",
   "execution_count": null,
   "id": "designed-indonesia",
   "metadata": {},
   "outputs": [],
   "source": []
  }
 ],
 "metadata": {
  "kernelspec": {
   "name": "python385jvsc74a57bd083edcf9d6691da80da87185edf1e2ec27aa1177a09f7d029aea1a0cb99dd36f7",
   "display_name": "Python 3.8.5 64-bit ('base': conda)"
  },
  "language_info": {
   "codemirror_mode": {
    "name": "ipython",
    "version": 3
   },
   "file_extension": ".py",
   "mimetype": "text/x-python",
   "name": "python",
   "nbconvert_exporter": "python",
   "pygments_lexer": "ipython3",
   "version": "3.8.5"
  },
  "latex_envs": {
   "LaTeX_envs_menu_present": true,
   "autoclose": false,
   "autocomplete": true,
   "bibliofile": "biblio.bib",
   "cite_by": "apalike",
   "current_citInitial": 1,
   "eqLabelWithNumbers": true,
   "eqNumInitial": 1,
   "hotkeys": {
    "equation": "Ctrl-E",
    "itemize": "Ctrl-I"
   },
   "labels_anchors": false,
   "latex_user_defs": false,
   "report_style_numbering": false,
   "user_envs_cfg": false
  },
  "toc": {
   "base_numbering": 1,
   "nav_menu": {},
   "number_sections": true,
   "sideBar": true,
   "skip_h1_title": false,
   "title_cell": "Table of Contents",
   "title_sidebar": "Contents",
   "toc_cell": false,
   "toc_position": {},
   "toc_section_display": true,
   "toc_window_display": false
  },
  "varInspector": {
   "cols": {
    "lenName": 16,
    "lenType": 16,
    "lenVar": 40
   },
   "kernels_config": {
    "python": {
     "delete_cmd_postfix": "",
     "delete_cmd_prefix": "del ",
     "library": "var_list.py",
     "varRefreshCmd": "print(var_dic_list())"
    },
    "r": {
     "delete_cmd_postfix": ") ",
     "delete_cmd_prefix": "rm(",
     "library": "var_list.r",
     "varRefreshCmd": "cat(var_dic_list()) "
    }
   },
   "types_to_exclude": [
    "module",
    "function",
    "builtin_function_or_method",
    "instance",
    "_Feature"
   ],
   "window_display": false
  }
 },
 "nbformat": 4,
 "nbformat_minor": 5
}