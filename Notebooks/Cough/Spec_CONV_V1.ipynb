{
 "cells": [
  {
   "cell_type": "markdown",
   "id": "integral-midwest",
   "metadata": {},
   "source": [
    "# Import Libararies"
   ]
  },
  {
   "cell_type": "code",
   "execution_count": 1,
   "id": "lucky-elimination",
   "metadata": {
    "ExecuteTime": {
     "end_time": "2021-05-30T16:23:11.255066Z",
     "start_time": "2021-05-30T16:23:05.946082Z"
    }
   },
   "outputs": [],
   "source": [
    "import cv2 # need cmake for gpu acceleration\n",
    "import numpy as np\n",
    "import os\n",
    "import random\n",
    "from random import shuffle # shuffle data to randomise input to improve accuracy\n",
    "import matplotlib.pyplot as plt\n",
    "import pickle\n",
    "from prettytable import PrettyTable\n",
    "import tensorflow as tf\n",
    "import tqdm\n",
    "from sklearn.metrics import precision_recall_fscore_support as score\n",
    "from sklearn.metrics import roc_curve\n",
    "from sklearn.metrics import roc_auc_score as auc\n",
    "from sklearn.metrics import plot_roc_curve\n",
    "from sklearn.ensemble import RandomForestClassifier\n",
    "import seaborn as sns"
   ]
  },
  {
   "cell_type": "markdown",
   "id": "natural-childhood",
   "metadata": {},
   "source": [
    "# Convert the dataset into numpy arrays, or retrieve pickled objects"
   ]
  },
  {
   "cell_type": "code",
   "execution_count": 2,
   "id": "abstract-nirvana",
   "metadata": {
    "ExecuteTime": {
     "end_time": "2021-05-30T16:23:15.683678Z",
     "start_time": "2021-05-30T16:23:11.288792Z"
    },
    "tags": []
   },
   "outputs": [
    {
     "output_type": "stream",
     "name": "stdout",
     "text": [
      "(753, 450, 610)\n"
     ]
    }
   ],
   "source": [
    "train=r\"D:\\finalconvcough\"\n",
    "cat=[\"healthypng\",\"covidpng\"]\n",
    "#quick note on data cleaning, you need to first convert the dataset to PNG,␣\n",
    "#,→then to prevent incomptiable input shapes convert from RGB to Grayscale,␣\n",
    "#,→then downsample to not fry you CPU with 1000s of images of millions of␣\n",
    "#,→arrays elements.\n",
    "data=[]\n",
    "Model=\"SPEC\"\n",
    "for i in cat:\n",
    "    path=os.path.join(train,i)\n",
    "    label=cat.index(i)\n",
    "    for img in os.listdir(path):\n",
    "        img_path=os.path.join(path,img)\n",
    "        img_arr=cv2.imread(img_path,0)\n",
    "        #img_arr = tf.reshape(img_arr, [-1, 256, 256, 3]\n",
    "        #img_arr=tf.image.resize(img_arr, [256,256])#no need\n",
    "        data.append([img_arr,label])\n",
    "shuffle(data)\n",
    "x=[]\n",
    "y=[]\n",
    "x_test=[]\n",
    "y_test=[]\n",
    "for features,labels in data:\n",
    "    x.append(features)\n",
    "    y.append(labels)\n",
    "x_test=np.array(x[int(len(x)*0.85):-1])\n",
    "y_test=np.array(y[int(len(y)*0.85):-1])\n",
    "x=np.array(x[0:int(0.85*len(x))])\n",
    "y=np.array(y[0:int(0.85*len(y))])\n",
    "x=x/255\n",
    "x_test=x_test/255\n",
    "data.clear()# reduce overhead\n",
    "print(x.shape)\n",
    "x=x.reshape(len(x),610,450,1)# for some reason my PC started running out of␣\n",
    "#,→memory often while training the same model\n",
    "# so as a solution i tried to treat any image as a grayscale to save 3 times␣\n",
    "#,→the memory when conveting the image to numpy arrays\n",
    "# and not exhaust gpu while training the model.\n",
    "x_test=x_test.reshape(len(x_test),610,450,1)# it worked lol as i expected since␣\n",
    "#→x.pkl went from 12GB to 4GB\n"
   ]
  },
  {
   "cell_type": "code",
   "execution_count": 3,
   "id": "blocked-tokyo",
   "metadata": {
    "ExecuteTime": {
     "end_time": "2021-05-30T16:13:51.722184Z",
     "start_time": "2021-05-30T16:13:40.167795Z"
    }
   },
   "outputs": [],
   "source": [
    "pickle.dump(x,open('x_spec.pkl','wb'))\n",
    "pickle.dump(y,open('y_spec.pkl','wb'))\n",
    "pickle.dump(x_test,open('x_spec_test.pkl','wb'))\n",
    "pickle.dump(y_test,open('y_spec_test.pkl','wb'))"
   ]
  },
  {
   "cell_type": "markdown",
   "id": "clinical-transmission",
   "metadata": {},
   "source": [
    "# Build the CNet"
   ]
  },
  {
   "cell_type": "code",
   "execution_count": null,
   "id": "forced-madonna",
   "metadata": {
    "ExecuteTime": {
     "end_time": "2021-05-30T16:17:37.993319Z",
     "start_time": "2021-05-30T16:17:35.893352Z"
    }
   },
   "outputs": [],
   "source": [
    "x=pickle.load(open('x_spec.pkl','rb'))\n",
    "x_test=pickle.load(open('x_spec_test.pkl','rb'))\n",
    "y=pickle.load(open('y_spec.pkl','rb'))\n",
    "y_test=pickle.load(open('y_spec_test.pkl','rb'))"
   ]
  },
  {
   "cell_type": "markdown",
   "id": "dental-leave",
   "metadata": {},
   "source": [
    "## Calculate the accuracy from a test dataset"
   ]
  },
  {
   "cell_type": "code",
   "execution_count": 4,
   "id": "requested-teaching",
   "metadata": {
    "ExecuteTime": {
     "end_time": "2021-05-30T16:24:23.940325Z",
     "start_time": "2021-05-30T16:24:23.909625Z"
    }
   },
   "outputs": [],
   "source": [
    "def Train():\n",
    "    model=tf.keras.models.Sequential()\n",
    "    model.add(tf.keras.layers.Conv2D(64,(3,3),input_shape=x.shape[1:],activation=\"relu\",padding=\"same\"))\n",
    "    model.add(tf.keras.layers.MaxPooling2D(pool_size=(2,2)))\n",
    "\n",
    "    model.add(tf.keras.layers.Flatten())\n",
    "    model.add(tf.keras.layers.Dense(64,activation=\"relu\"))\n",
    "    model.add(tf.keras.layers.BatchNormalization())\n",
    "\n",
    "    model.add(tf.keras.layers.Dense(32,activation=\"relu\"))\n",
    "    model.add(tf.keras.layers.BatchNormalization())\n",
    "\n",
    "\n",
    "    model.add(tf.keras.layers.Dense(2,activation=\"softmax\"))\n",
    "\n",
    "\n",
    "    model.compile(optimizer=\"adam\",loss=\"sparse_categorical_crossentropy\",metrics=['acc']) # or binary_crossentropy\n",
    "    model.fit(x,y,epochs=5,validation_split=0.1) # epochs:iteration , validation_split=split your training set to test the model after every epoch\n",
    "    return model"
   ]
  },
  {
   "cell_type": "code",
   "execution_count": 5,
   "id": "potential-return",
   "metadata": {
    "ExecuteTime": {
     "end_time": "2021-05-30T16:24:38.415400Z",
     "start_time": "2021-05-30T16:24:26.545206Z"
    }
   },
   "outputs": [
    {
     "output_type": "stream",
     "name": "stdout",
     "text": [
      "Epoch 1/5\n",
      "22/22 [==============================] - 104s 4s/step - loss: 0.2626 - acc: 0.8992 - val_loss: 2.0350 - val_acc: 0.6316\n",
      "Epoch 2/5\n",
      "22/22 [==============================] - 101s 5s/step - loss: 0.1311 - acc: 0.9546 - val_loss: 12.1617 - val_acc: 0.3684\n",
      "Epoch 3/5\n",
      "22/22 [==============================] - 103s 5s/step - loss: 0.0817 - acc: 0.9845 - val_loss: 0.3105 - val_acc: 0.9474\n",
      "Epoch 4/5\n",
      "22/22 [==============================] - 105s 5s/step - loss: 0.0610 - acc: 0.9914 - val_loss: 0.5578 - val_acc: 0.8816\n",
      "Epoch 5/5\n",
      "22/22 [==============================] - 105s 5s/step - loss: 0.0484 - acc: 0.9909 - val_loss: 0.3727 - val_acc: 0.9079\n",
      "5/5 [==============================] - 5s 881ms/step - loss: 0.2740 - acc: 0.9394\n",
      "loss: 0.2739979922771454, acc: 0.939393937587738\n",
      "Model: \"sequential\"\n",
      "_________________________________________________________________\n",
      "Layer (type)                 Output Shape              Param #   \n",
      "=================================================================\n",
      "conv2d (Conv2D)              (None, 610, 450, 64)      640       \n",
      "_________________________________________________________________\n",
      "max_pooling2d (MaxPooling2D) (None, 305, 225, 64)      0         \n",
      "_________________________________________________________________\n",
      "flatten (Flatten)            (None, 4392000)           0         \n",
      "_________________________________________________________________\n",
      "dense (Dense)                (None, 64)                281088064 \n",
      "_________________________________________________________________\n",
      "batch_normalization (BatchNo (None, 64)                256       \n",
      "_________________________________________________________________\n",
      "dense_1 (Dense)              (None, 32)                2080      \n",
      "_________________________________________________________________\n",
      "batch_normalization_1 (Batch (None, 32)                128       \n",
      "_________________________________________________________________\n",
      "dense_2 (Dense)              (None, 2)                 66        \n",
      "=================================================================\n",
      "Total params: 281,091,234\n",
      "Trainable params: 281,091,042\n",
      "Non-trainable params: 192\n",
      "_________________________________________________________________\n"
     ]
    }
   ],
   "source": [
    "model=Train()\n",
    "loss,win=model.evaluate(x_test,y_test)# test using evaluate\n",
    "print('loss: {}, acc: {}'.format(loss,win))\n",
    "model.summary()"
   ]
  },
  {
   "source": [
    "# Random Forest Classifier"
   ],
   "cell_type": "markdown",
   "metadata": {}
  },
  {
   "cell_type": "code",
   "execution_count": null,
   "metadata": {},
   "outputs": [],
   "source": [
    "# Supervised transformation based on random forests\n",
    "rf = RandomForestClassifier(max_depth=3, n_estimators=10)\n",
    "predict=model.predict([x_test])\n",
    "xp=x.reshape(len(x),610*450)\n",
    "p=x_test.reshape(len(x_test),610*450)\n",
    "rf.fit(xp, y)\n",
    "y_pred_rf = rf.predict_proba(p)[:, 1]\n",
    "fpr_rf, tpr_rf, thresholds_rf = roc_curve(y_test, y_pred_rf)\n",
    "f_predict=[]\n",
    "def simpleargmax(n):\n",
    "    if list(n).index(max(n))==0:\n",
    "        return 0\n",
    "    elif list(n).index(max(n))==1:\n",
    "        return 1\n",
    "for i in range(len(p)):\n",
    "    f_predict.append(simpleargmax(predict[i]))\n",
    "auc_rf = auc(f_predict, y_test)\n",
    "print(auc_rf)"
   ]
  },
  {
   "cell_type": "markdown",
   "id": "corporate-corruption",
   "metadata": {},
   "source": [
    "## Saving the model after achieving 89% percentage"
   ]
  },
  {
   "cell_type": "code",
   "execution_count": 6,
   "id": "different-peace",
   "metadata": {
    "ExecuteTime": {
     "end_time": "2021-05-30T16:15:28.548292Z",
     "start_time": "2021-05-30T16:15:24.119068Z"
    }
   },
   "outputs": [
    {
     "output_type": "stream",
     "name": "stdout",
     "text": [
      "INFO:tensorflow:Assets written to: Spec\\assets\n"
     ]
    }
   ],
   "source": [
    "model.save(\"Spec\")"
   ]
  },
  {
   "cell_type": "code",
   "execution_count": null,
   "id": "pediatric-medicare",
   "metadata": {
    "ExecuteTime": {
     "end_time": "2021-05-06T23:59:42.225092Z",
     "start_time": "2021-05-06T23:59:37.677313Z"
    }
   },
   "outputs": [],
   "source": [
    "model=tf.keras.models.load_model(\"Spec\")"
   ]
  },
  {
   "cell_type": "markdown",
   "id": "charged-fossil",
   "metadata": {},
   "source": [
    "# Strandradized Table for the model acuuaracy and after 30 runs."
   ]
  },
  {
   "cell_type": "code",
   "execution_count": null,
   "id": "chinese-paint",
   "metadata": {},
   "outputs": [],
   "source": [
    "for i in range(30):\n",
    "    model=Train()\n",
    "    test=model.evaluate(x_test,y_test)\n",
    "    with open(r'avg.txt','a+') as file:\n",
    "        file.write(\"{},{}\\n\".format(test[1],test[0]))"
   ]
  },
  {
   "cell_type": "markdown",
   "id": "alternate-creature",
   "metadata": {},
   "source": [
    "# Confusion Matrix "
   ]
  },
  {
   "cell_type": "code",
   "execution_count": 7,
   "id": "induced-victor",
   "metadata": {
    "ExecuteTime": {
     "end_time": "2021-05-30T16:23:54.170261Z",
     "start_time": "2021-05-30T16:23:53.405110Z"
    }
   },
   "outputs": [
    {
     "output_type": "stream",
     "name": "stdout",
     "text": [
      "True\n"
     ]
    },
    {
     "output_type": "display_data",
     "data": {
      "text/plain": "<Figure size 432x288 with 2 Axes>",
      "image/svg+xml": "<?xml version=\"1.0\" encoding=\"utf-8\" standalone=\"no\"?>\r\n<!DOCTYPE svg PUBLIC \"-//W3C//DTD SVG 1.1//EN\"\r\n  \"http://www.w3.org/Graphics/SVG/1.1/DTD/svg11.dtd\">\r\n<!-- Created with matplotlib (https://matplotlib.org/) -->\r\n<svg height=\"262.19625pt\" version=\"1.1\" viewBox=\"0 0 359.93325 262.19625\" width=\"359.93325pt\" xmlns=\"http://www.w3.org/2000/svg\" xmlns:xlink=\"http://www.w3.org/1999/xlink\">\r\n <metadata>\r\n  <rdf:RDF xmlns:cc=\"http://creativecommons.org/ns#\" xmlns:dc=\"http://purl.org/dc/elements/1.1/\" xmlns:rdf=\"http://www.w3.org/1999/02/22-rdf-syntax-ns#\">\r\n   <cc:Work>\r\n    <dc:type rdf:resource=\"http://purl.org/dc/dcmitype/StillImage\"/>\r\n    <dc:date>2021-06-01T14:54:45.304846</dc:date>\r\n    <dc:format>image/svg+xml</dc:format>\r\n    <dc:creator>\r\n     <cc:Agent>\r\n      <dc:title>Matplotlib v3.3.4, https://matplotlib.org/</dc:title>\r\n     </cc:Agent>\r\n    </dc:creator>\r\n   </cc:Work>\r\n  </rdf:RDF>\r\n </metadata>\r\n <defs>\r\n  <style type=\"text/css\">*{stroke-linecap:butt;stroke-linejoin:round;}</style>\r\n </defs>\r\n <g id=\"figure_1\">\r\n  <g id=\"patch_1\">\r\n   <path d=\"M 0 262.19625 \r\nL 359.93325 262.19625 \r\nL 359.93325 0 \r\nL 0 0 \r\nz\r\n\" style=\"fill:none;\"/>\r\n  </g>\r\n  <g id=\"axes_1\">\r\n   <g id=\"patch_2\">\r\n    <path d=\"M 37.55625 224.64 \r\nL 305.39625 224.64 \r\nL 305.39625 7.2 \r\nL 37.55625 7.2 \r\nz\r\n\" style=\"fill:#ffffff;\"/>\r\n   </g>\r\n   <g id=\"QuadMesh_1\">\r\n    <path clip-path=\"url(#p15445b8b36)\" d=\"M 37.55625 7.2 \r\nL 171.47625 7.2 \r\nL 171.47625 115.92 \r\nL 37.55625 115.92 \r\nL 37.55625 7.2 \r\n\" style=\"fill:#f9dfcb;\"/>\r\n    <path clip-path=\"url(#p15445b8b36)\" d=\"M 171.47625 7.2 \r\nL 305.39625 7.2 \r\nL 305.39625 115.92 \r\nL 171.47625 115.92 \r\nL 171.47625 7.2 \r\n\" style=\"fill:#30173a;\"/>\r\n    <path clip-path=\"url(#p15445b8b36)\" d=\"M 37.55625 115.92 \r\nL 171.47625 115.92 \r\nL 171.47625 224.64 \r\nL 37.55625 224.64 \r\nL 37.55625 115.92 \r\n\" style=\"fill:#03051a;\"/>\r\n    <path clip-path=\"url(#p15445b8b36)\" d=\"M 171.47625 115.92 \r\nL 305.39625 115.92 \r\nL 305.39625 224.64 \r\nL 171.47625 224.64 \r\nL 171.47625 115.92 \r\n\" style=\"fill:#faebdd;\"/>\r\n   </g>\r\n   <g id=\"matplotlib.axis_1\">\r\n    <g id=\"xtick_1\">\r\n     <g id=\"line2d_1\">\r\n      <defs>\r\n       <path d=\"M 0 0 \r\nL 0 3.5 \r\n\" id=\"m0eb8be02c3\" style=\"stroke:#000000;stroke-width:0.8;\"/>\r\n      </defs>\r\n      <g>\r\n       <use style=\"stroke:#000000;stroke-width:0.8;\" x=\"104.51625\" xlink:href=\"#m0eb8be02c3\" y=\"224.64\"/>\r\n      </g>\r\n     </g>\r\n     <g id=\"text_1\">\r\n      <!-- Healthy -->\r\n      <g transform=\"translate(85.138125 239.238437)scale(0.1 -0.1)\">\r\n       <defs>\r\n        <path d=\"M 9.8125 72.90625 \r\nL 19.671875 72.90625 \r\nL 19.671875 43.015625 \r\nL 55.515625 43.015625 \r\nL 55.515625 72.90625 \r\nL 65.375 72.90625 \r\nL 65.375 0 \r\nL 55.515625 0 \r\nL 55.515625 34.71875 \r\nL 19.671875 34.71875 \r\nL 19.671875 0 \r\nL 9.8125 0 \r\nz\r\n\" id=\"DejaVuSans-72\"/>\r\n        <path d=\"M 56.203125 29.59375 \r\nL 56.203125 25.203125 \r\nL 14.890625 25.203125 \r\nQ 15.484375 15.921875 20.484375 11.0625 \r\nQ 25.484375 6.203125 34.421875 6.203125 \r\nQ 39.59375 6.203125 44.453125 7.46875 \r\nQ 49.3125 8.734375 54.109375 11.28125 \r\nL 54.109375 2.78125 \r\nQ 49.265625 0.734375 44.1875 -0.34375 \r\nQ 39.109375 -1.421875 33.890625 -1.421875 \r\nQ 20.796875 -1.421875 13.15625 6.1875 \r\nQ 5.515625 13.8125 5.515625 26.8125 \r\nQ 5.515625 40.234375 12.765625 48.109375 \r\nQ 20.015625 56 32.328125 56 \r\nQ 43.359375 56 49.78125 48.890625 \r\nQ 56.203125 41.796875 56.203125 29.59375 \r\nz\r\nM 47.21875 32.234375 \r\nQ 47.125 39.59375 43.09375 43.984375 \r\nQ 39.0625 48.390625 32.421875 48.390625 \r\nQ 24.90625 48.390625 20.390625 44.140625 \r\nQ 15.875 39.890625 15.1875 32.171875 \r\nz\r\n\" id=\"DejaVuSans-101\"/>\r\n        <path d=\"M 34.28125 27.484375 \r\nQ 23.390625 27.484375 19.1875 25 \r\nQ 14.984375 22.515625 14.984375 16.5 \r\nQ 14.984375 11.71875 18.140625 8.90625 \r\nQ 21.296875 6.109375 26.703125 6.109375 \r\nQ 34.1875 6.109375 38.703125 11.40625 \r\nQ 43.21875 16.703125 43.21875 25.484375 \r\nL 43.21875 27.484375 \r\nz\r\nM 52.203125 31.203125 \r\nL 52.203125 0 \r\nL 43.21875 0 \r\nL 43.21875 8.296875 \r\nQ 40.140625 3.328125 35.546875 0.953125 \r\nQ 30.953125 -1.421875 24.3125 -1.421875 \r\nQ 15.921875 -1.421875 10.953125 3.296875 \r\nQ 6 8.015625 6 15.921875 \r\nQ 6 25.140625 12.171875 29.828125 \r\nQ 18.359375 34.515625 30.609375 34.515625 \r\nL 43.21875 34.515625 \r\nL 43.21875 35.40625 \r\nQ 43.21875 41.609375 39.140625 45 \r\nQ 35.0625 48.390625 27.6875 48.390625 \r\nQ 23 48.390625 18.546875 47.265625 \r\nQ 14.109375 46.140625 10.015625 43.890625 \r\nL 10.015625 52.203125 \r\nQ 14.9375 54.109375 19.578125 55.046875 \r\nQ 24.21875 56 28.609375 56 \r\nQ 40.484375 56 46.34375 49.84375 \r\nQ 52.203125 43.703125 52.203125 31.203125 \r\nz\r\n\" id=\"DejaVuSans-97\"/>\r\n        <path d=\"M 9.421875 75.984375 \r\nL 18.40625 75.984375 \r\nL 18.40625 0 \r\nL 9.421875 0 \r\nz\r\n\" id=\"DejaVuSans-108\"/>\r\n        <path d=\"M 18.3125 70.21875 \r\nL 18.3125 54.6875 \r\nL 36.8125 54.6875 \r\nL 36.8125 47.703125 \r\nL 18.3125 47.703125 \r\nL 18.3125 18.015625 \r\nQ 18.3125 11.328125 20.140625 9.421875 \r\nQ 21.96875 7.515625 27.59375 7.515625 \r\nL 36.8125 7.515625 \r\nL 36.8125 0 \r\nL 27.59375 0 \r\nQ 17.1875 0 13.234375 3.875 \r\nQ 9.28125 7.765625 9.28125 18.015625 \r\nL 9.28125 47.703125 \r\nL 2.6875 47.703125 \r\nL 2.6875 54.6875 \r\nL 9.28125 54.6875 \r\nL 9.28125 70.21875 \r\nz\r\n\" id=\"DejaVuSans-116\"/>\r\n        <path d=\"M 54.890625 33.015625 \r\nL 54.890625 0 \r\nL 45.90625 0 \r\nL 45.90625 32.71875 \r\nQ 45.90625 40.484375 42.875 44.328125 \r\nQ 39.84375 48.1875 33.796875 48.1875 \r\nQ 26.515625 48.1875 22.3125 43.546875 \r\nQ 18.109375 38.921875 18.109375 30.90625 \r\nL 18.109375 0 \r\nL 9.078125 0 \r\nL 9.078125 75.984375 \r\nL 18.109375 75.984375 \r\nL 18.109375 46.1875 \r\nQ 21.34375 51.125 25.703125 53.5625 \r\nQ 30.078125 56 35.796875 56 \r\nQ 45.21875 56 50.046875 50.171875 \r\nQ 54.890625 44.34375 54.890625 33.015625 \r\nz\r\n\" id=\"DejaVuSans-104\"/>\r\n        <path d=\"M 32.171875 -5.078125 \r\nQ 28.375 -14.84375 24.75 -17.8125 \r\nQ 21.140625 -20.796875 15.09375 -20.796875 \r\nL 7.90625 -20.796875 \r\nL 7.90625 -13.28125 \r\nL 13.1875 -13.28125 \r\nQ 16.890625 -13.28125 18.9375 -11.515625 \r\nQ 21 -9.765625 23.484375 -3.21875 \r\nL 25.09375 0.875 \r\nL 2.984375 54.6875 \r\nL 12.5 54.6875 \r\nL 29.59375 11.921875 \r\nL 46.6875 54.6875 \r\nL 56.203125 54.6875 \r\nz\r\n\" id=\"DejaVuSans-121\"/>\r\n       </defs>\r\n       <use xlink:href=\"#DejaVuSans-72\"/>\r\n       <use x=\"75.195312\" xlink:href=\"#DejaVuSans-101\"/>\r\n       <use x=\"136.71875\" xlink:href=\"#DejaVuSans-97\"/>\r\n       <use x=\"197.998047\" xlink:href=\"#DejaVuSans-108\"/>\r\n       <use x=\"225.78125\" xlink:href=\"#DejaVuSans-116\"/>\r\n       <use x=\"264.990234\" xlink:href=\"#DejaVuSans-104\"/>\r\n       <use x=\"328.369141\" xlink:href=\"#DejaVuSans-121\"/>\r\n      </g>\r\n     </g>\r\n    </g>\r\n    <g id=\"xtick_2\">\r\n     <g id=\"line2d_2\">\r\n      <g>\r\n       <use style=\"stroke:#000000;stroke-width:0.8;\" x=\"238.43625\" xlink:href=\"#m0eb8be02c3\" y=\"224.64\"/>\r\n      </g>\r\n     </g>\r\n     <g id=\"text_2\">\r\n      <!-- Covid-19 -->\r\n      <g transform=\"translate(216.196406 239.238437)scale(0.1 -0.1)\">\r\n       <defs>\r\n        <path d=\"M 64.40625 67.28125 \r\nL 64.40625 56.890625 \r\nQ 59.421875 61.53125 53.78125 63.8125 \r\nQ 48.140625 66.109375 41.796875 66.109375 \r\nQ 29.296875 66.109375 22.65625 58.46875 \r\nQ 16.015625 50.828125 16.015625 36.375 \r\nQ 16.015625 21.96875 22.65625 14.328125 \r\nQ 29.296875 6.6875 41.796875 6.6875 \r\nQ 48.140625 6.6875 53.78125 8.984375 \r\nQ 59.421875 11.28125 64.40625 15.921875 \r\nL 64.40625 5.609375 \r\nQ 59.234375 2.09375 53.4375 0.328125 \r\nQ 47.65625 -1.421875 41.21875 -1.421875 \r\nQ 24.65625 -1.421875 15.125 8.703125 \r\nQ 5.609375 18.84375 5.609375 36.375 \r\nQ 5.609375 53.953125 15.125 64.078125 \r\nQ 24.65625 74.21875 41.21875 74.21875 \r\nQ 47.75 74.21875 53.53125 72.484375 \r\nQ 59.328125 70.75 64.40625 67.28125 \r\nz\r\n\" id=\"DejaVuSans-67\"/>\r\n        <path d=\"M 30.609375 48.390625 \r\nQ 23.390625 48.390625 19.1875 42.75 \r\nQ 14.984375 37.109375 14.984375 27.296875 \r\nQ 14.984375 17.484375 19.15625 11.84375 \r\nQ 23.34375 6.203125 30.609375 6.203125 \r\nQ 37.796875 6.203125 41.984375 11.859375 \r\nQ 46.1875 17.53125 46.1875 27.296875 \r\nQ 46.1875 37.015625 41.984375 42.703125 \r\nQ 37.796875 48.390625 30.609375 48.390625 \r\nz\r\nM 30.609375 56 \r\nQ 42.328125 56 49.015625 48.375 \r\nQ 55.71875 40.765625 55.71875 27.296875 \r\nQ 55.71875 13.875 49.015625 6.21875 \r\nQ 42.328125 -1.421875 30.609375 -1.421875 \r\nQ 18.84375 -1.421875 12.171875 6.21875 \r\nQ 5.515625 13.875 5.515625 27.296875 \r\nQ 5.515625 40.765625 12.171875 48.375 \r\nQ 18.84375 56 30.609375 56 \r\nz\r\n\" id=\"DejaVuSans-111\"/>\r\n        <path d=\"M 2.984375 54.6875 \r\nL 12.5 54.6875 \r\nL 29.59375 8.796875 \r\nL 46.6875 54.6875 \r\nL 56.203125 54.6875 \r\nL 35.6875 0 \r\nL 23.484375 0 \r\nz\r\n\" id=\"DejaVuSans-118\"/>\r\n        <path d=\"M 9.421875 54.6875 \r\nL 18.40625 54.6875 \r\nL 18.40625 0 \r\nL 9.421875 0 \r\nz\r\nM 9.421875 75.984375 \r\nL 18.40625 75.984375 \r\nL 18.40625 64.59375 \r\nL 9.421875 64.59375 \r\nz\r\n\" id=\"DejaVuSans-105\"/>\r\n        <path d=\"M 45.40625 46.390625 \r\nL 45.40625 75.984375 \r\nL 54.390625 75.984375 \r\nL 54.390625 0 \r\nL 45.40625 0 \r\nL 45.40625 8.203125 \r\nQ 42.578125 3.328125 38.25 0.953125 \r\nQ 33.9375 -1.421875 27.875 -1.421875 \r\nQ 17.96875 -1.421875 11.734375 6.484375 \r\nQ 5.515625 14.40625 5.515625 27.296875 \r\nQ 5.515625 40.1875 11.734375 48.09375 \r\nQ 17.96875 56 27.875 56 \r\nQ 33.9375 56 38.25 53.625 \r\nQ 42.578125 51.265625 45.40625 46.390625 \r\nz\r\nM 14.796875 27.296875 \r\nQ 14.796875 17.390625 18.875 11.75 \r\nQ 22.953125 6.109375 30.078125 6.109375 \r\nQ 37.203125 6.109375 41.296875 11.75 \r\nQ 45.40625 17.390625 45.40625 27.296875 \r\nQ 45.40625 37.203125 41.296875 42.84375 \r\nQ 37.203125 48.484375 30.078125 48.484375 \r\nQ 22.953125 48.484375 18.875 42.84375 \r\nQ 14.796875 37.203125 14.796875 27.296875 \r\nz\r\n\" id=\"DejaVuSans-100\"/>\r\n        <path d=\"M 4.890625 31.390625 \r\nL 31.203125 31.390625 \r\nL 31.203125 23.390625 \r\nL 4.890625 23.390625 \r\nz\r\n\" id=\"DejaVuSans-45\"/>\r\n        <path d=\"M 12.40625 8.296875 \r\nL 28.515625 8.296875 \r\nL 28.515625 63.921875 \r\nL 10.984375 60.40625 \r\nL 10.984375 69.390625 \r\nL 28.421875 72.90625 \r\nL 38.28125 72.90625 \r\nL 38.28125 8.296875 \r\nL 54.390625 8.296875 \r\nL 54.390625 0 \r\nL 12.40625 0 \r\nz\r\n\" id=\"DejaVuSans-49\"/>\r\n        <path d=\"M 10.984375 1.515625 \r\nL 10.984375 10.5 \r\nQ 14.703125 8.734375 18.5 7.8125 \r\nQ 22.3125 6.890625 25.984375 6.890625 \r\nQ 35.75 6.890625 40.890625 13.453125 \r\nQ 46.046875 20.015625 46.78125 33.40625 \r\nQ 43.953125 29.203125 39.59375 26.953125 \r\nQ 35.25 24.703125 29.984375 24.703125 \r\nQ 19.046875 24.703125 12.671875 31.3125 \r\nQ 6.296875 37.9375 6.296875 49.421875 \r\nQ 6.296875 60.640625 12.9375 67.421875 \r\nQ 19.578125 74.21875 30.609375 74.21875 \r\nQ 43.265625 74.21875 49.921875 64.515625 \r\nQ 56.59375 54.828125 56.59375 36.375 \r\nQ 56.59375 19.140625 48.40625 8.859375 \r\nQ 40.234375 -1.421875 26.421875 -1.421875 \r\nQ 22.703125 -1.421875 18.890625 -0.6875 \r\nQ 15.09375 0.046875 10.984375 1.515625 \r\nz\r\nM 30.609375 32.421875 \r\nQ 37.25 32.421875 41.125 36.953125 \r\nQ 45.015625 41.5 45.015625 49.421875 \r\nQ 45.015625 57.28125 41.125 61.84375 \r\nQ 37.25 66.40625 30.609375 66.40625 \r\nQ 23.96875 66.40625 20.09375 61.84375 \r\nQ 16.21875 57.28125 16.21875 49.421875 \r\nQ 16.21875 41.5 20.09375 36.953125 \r\nQ 23.96875 32.421875 30.609375 32.421875 \r\nz\r\n\" id=\"DejaVuSans-57\"/>\r\n       </defs>\r\n       <use xlink:href=\"#DejaVuSans-67\"/>\r\n       <use x=\"69.824219\" xlink:href=\"#DejaVuSans-111\"/>\r\n       <use x=\"131.005859\" xlink:href=\"#DejaVuSans-118\"/>\r\n       <use x=\"190.185547\" xlink:href=\"#DejaVuSans-105\"/>\r\n       <use x=\"217.96875\" xlink:href=\"#DejaVuSans-100\"/>\r\n       <use x=\"281.445312\" xlink:href=\"#DejaVuSans-45\"/>\r\n       <use x=\"317.529297\" xlink:href=\"#DejaVuSans-49\"/>\r\n       <use x=\"381.152344\" xlink:href=\"#DejaVuSans-57\"/>\r\n      </g>\r\n     </g>\r\n    </g>\r\n    <g id=\"text_3\">\r\n     <!-- Predicted -->\r\n     <g transform=\"translate(148.005938 252.916562)scale(0.1 -0.1)\">\r\n      <defs>\r\n       <path d=\"M 19.671875 64.796875 \r\nL 19.671875 37.40625 \r\nL 32.078125 37.40625 \r\nQ 38.96875 37.40625 42.71875 40.96875 \r\nQ 46.484375 44.53125 46.484375 51.125 \r\nQ 46.484375 57.671875 42.71875 61.234375 \r\nQ 38.96875 64.796875 32.078125 64.796875 \r\nz\r\nM 9.8125 72.90625 \r\nL 32.078125 72.90625 \r\nQ 44.34375 72.90625 50.609375 67.359375 \r\nQ 56.890625 61.8125 56.890625 51.125 \r\nQ 56.890625 40.328125 50.609375 34.8125 \r\nQ 44.34375 29.296875 32.078125 29.296875 \r\nL 19.671875 29.296875 \r\nL 19.671875 0 \r\nL 9.8125 0 \r\nz\r\n\" id=\"DejaVuSans-80\"/>\r\n       <path d=\"M 41.109375 46.296875 \r\nQ 39.59375 47.171875 37.8125 47.578125 \r\nQ 36.03125 48 33.890625 48 \r\nQ 26.265625 48 22.1875 43.046875 \r\nQ 18.109375 38.09375 18.109375 28.8125 \r\nL 18.109375 0 \r\nL 9.078125 0 \r\nL 9.078125 54.6875 \r\nL 18.109375 54.6875 \r\nL 18.109375 46.1875 \r\nQ 20.953125 51.171875 25.484375 53.578125 \r\nQ 30.03125 56 36.53125 56 \r\nQ 37.453125 56 38.578125 55.875 \r\nQ 39.703125 55.765625 41.0625 55.515625 \r\nz\r\n\" id=\"DejaVuSans-114\"/>\r\n       <path d=\"M 48.78125 52.59375 \r\nL 48.78125 44.1875 \r\nQ 44.96875 46.296875 41.140625 47.34375 \r\nQ 37.3125 48.390625 33.40625 48.390625 \r\nQ 24.65625 48.390625 19.8125 42.84375 \r\nQ 14.984375 37.3125 14.984375 27.296875 \r\nQ 14.984375 17.28125 19.8125 11.734375 \r\nQ 24.65625 6.203125 33.40625 6.203125 \r\nQ 37.3125 6.203125 41.140625 7.25 \r\nQ 44.96875 8.296875 48.78125 10.40625 \r\nL 48.78125 2.09375 \r\nQ 45.015625 0.34375 40.984375 -0.53125 \r\nQ 36.96875 -1.421875 32.421875 -1.421875 \r\nQ 20.0625 -1.421875 12.78125 6.34375 \r\nQ 5.515625 14.109375 5.515625 27.296875 \r\nQ 5.515625 40.671875 12.859375 48.328125 \r\nQ 20.21875 56 33.015625 56 \r\nQ 37.15625 56 41.109375 55.140625 \r\nQ 45.0625 54.296875 48.78125 52.59375 \r\nz\r\n\" id=\"DejaVuSans-99\"/>\r\n      </defs>\r\n      <use xlink:href=\"#DejaVuSans-80\"/>\r\n      <use x=\"58.552734\" xlink:href=\"#DejaVuSans-114\"/>\r\n      <use x=\"97.416016\" xlink:href=\"#DejaVuSans-101\"/>\r\n      <use x=\"158.939453\" xlink:href=\"#DejaVuSans-100\"/>\r\n      <use x=\"222.416016\" xlink:href=\"#DejaVuSans-105\"/>\r\n      <use x=\"250.199219\" xlink:href=\"#DejaVuSans-99\"/>\r\n      <use x=\"305.179688\" xlink:href=\"#DejaVuSans-116\"/>\r\n      <use x=\"344.388672\" xlink:href=\"#DejaVuSans-101\"/>\r\n      <use x=\"405.912109\" xlink:href=\"#DejaVuSans-100\"/>\r\n     </g>\r\n    </g>\r\n   </g>\r\n   <g id=\"matplotlib.axis_2\">\r\n    <g id=\"ytick_1\">\r\n     <g id=\"line2d_3\">\r\n      <defs>\r\n       <path d=\"M 0 0 \r\nL -3.5 0 \r\n\" id=\"m526b9f94ce\" style=\"stroke:#000000;stroke-width:0.8;\"/>\r\n      </defs>\r\n      <g>\r\n       <use style=\"stroke:#000000;stroke-width:0.8;\" x=\"37.55625\" xlink:href=\"#m526b9f94ce\" y=\"61.56\"/>\r\n      </g>\r\n     </g>\r\n     <g id=\"text_4\">\r\n      <!-- Healthy -->\r\n      <g transform=\"translate(28.476563 96.517031)rotate(-90)scale(0.1 -0.1)\">\r\n       <use xlink:href=\"#DejaVuSans-72\"/>\r\n       <use x=\"75.195312\" xlink:href=\"#DejaVuSans-101\"/>\r\n       <use x=\"136.71875\" xlink:href=\"#DejaVuSans-97\"/>\r\n       <use x=\"197.998047\" xlink:href=\"#DejaVuSans-108\"/>\r\n       <use x=\"225.78125\" xlink:href=\"#DejaVuSans-116\"/>\r\n       <use x=\"264.990234\" xlink:href=\"#DejaVuSans-104\"/>\r\n       <use x=\"328.369141\" xlink:href=\"#DejaVuSans-121\"/>\r\n      </g>\r\n     </g>\r\n    </g>\r\n    <g id=\"ytick_2\">\r\n     <g id=\"line2d_4\">\r\n      <g>\r\n       <use style=\"stroke:#000000;stroke-width:0.8;\" x=\"37.55625\" xlink:href=\"#m526b9f94ce\" y=\"170.28\"/>\r\n      </g>\r\n     </g>\r\n     <g id=\"text_5\">\r\n      <!-- Covid-19 -->\r\n      <g transform=\"translate(28.476563 210.960469)rotate(-90)scale(0.1 -0.1)\">\r\n       <use xlink:href=\"#DejaVuSans-67\"/>\r\n       <use x=\"69.824219\" xlink:href=\"#DejaVuSans-111\"/>\r\n       <use x=\"131.005859\" xlink:href=\"#DejaVuSans-118\"/>\r\n       <use x=\"190.185547\" xlink:href=\"#DejaVuSans-105\"/>\r\n       <use x=\"217.96875\" xlink:href=\"#DejaVuSans-100\"/>\r\n       <use x=\"281.445312\" xlink:href=\"#DejaVuSans-45\"/>\r\n       <use x=\"317.529297\" xlink:href=\"#DejaVuSans-49\"/>\r\n       <use x=\"381.152344\" xlink:href=\"#DejaVuSans-57\"/>\r\n      </g>\r\n     </g>\r\n    </g>\r\n    <g id=\"text_6\">\r\n     <!-- True -->\r\n     <g transform=\"translate(14.798438 126.537187)rotate(-90)scale(0.1 -0.1)\">\r\n      <defs>\r\n       <path d=\"M -0.296875 72.90625 \r\nL 61.375 72.90625 \r\nL 61.375 64.59375 \r\nL 35.5 64.59375 \r\nL 35.5 0 \r\nL 25.59375 0 \r\nL 25.59375 64.59375 \r\nL -0.296875 64.59375 \r\nz\r\n\" id=\"DejaVuSans-84\"/>\r\n       <path d=\"M 8.5 21.578125 \r\nL 8.5 54.6875 \r\nL 17.484375 54.6875 \r\nL 17.484375 21.921875 \r\nQ 17.484375 14.15625 20.5 10.265625 \r\nQ 23.53125 6.390625 29.59375 6.390625 \r\nQ 36.859375 6.390625 41.078125 11.03125 \r\nQ 45.3125 15.671875 45.3125 23.6875 \r\nL 45.3125 54.6875 \r\nL 54.296875 54.6875 \r\nL 54.296875 0 \r\nL 45.3125 0 \r\nL 45.3125 8.40625 \r\nQ 42.046875 3.421875 37.71875 1 \r\nQ 33.40625 -1.421875 27.6875 -1.421875 \r\nQ 18.265625 -1.421875 13.375 4.4375 \r\nQ 8.5 10.296875 8.5 21.578125 \r\nz\r\nM 31.109375 56 \r\nz\r\n\" id=\"DejaVuSans-117\"/>\r\n      </defs>\r\n      <use xlink:href=\"#DejaVuSans-84\"/>\r\n      <use x=\"46.333984\" xlink:href=\"#DejaVuSans-114\"/>\r\n      <use x=\"87.447266\" xlink:href=\"#DejaVuSans-117\"/>\r\n      <use x=\"150.826172\" xlink:href=\"#DejaVuSans-101\"/>\r\n     </g>\r\n    </g>\r\n   </g>\r\n   <g id=\"text_7\">\r\n    <!-- 61 -->\r\n    <g style=\"fill:#262626;\" transform=\"translate(98.15375 64.319375)scale(0.1 -0.1)\">\r\n     <defs>\r\n      <path d=\"M 33.015625 40.375 \r\nQ 26.375 40.375 22.484375 35.828125 \r\nQ 18.609375 31.296875 18.609375 23.390625 \r\nQ 18.609375 15.53125 22.484375 10.953125 \r\nQ 26.375 6.390625 33.015625 6.390625 \r\nQ 39.65625 6.390625 43.53125 10.953125 \r\nQ 47.40625 15.53125 47.40625 23.390625 \r\nQ 47.40625 31.296875 43.53125 35.828125 \r\nQ 39.65625 40.375 33.015625 40.375 \r\nz\r\nM 52.59375 71.296875 \r\nL 52.59375 62.3125 \r\nQ 48.875 64.0625 45.09375 64.984375 \r\nQ 41.3125 65.921875 37.59375 65.921875 \r\nQ 27.828125 65.921875 22.671875 59.328125 \r\nQ 17.53125 52.734375 16.796875 39.40625 \r\nQ 19.671875 43.65625 24.015625 45.921875 \r\nQ 28.375 48.1875 33.59375 48.1875 \r\nQ 44.578125 48.1875 50.953125 41.515625 \r\nQ 57.328125 34.859375 57.328125 23.390625 \r\nQ 57.328125 12.15625 50.6875 5.359375 \r\nQ 44.046875 -1.421875 33.015625 -1.421875 \r\nQ 20.359375 -1.421875 13.671875 8.265625 \r\nQ 6.984375 17.96875 6.984375 36.375 \r\nQ 6.984375 53.65625 15.1875 63.9375 \r\nQ 23.390625 74.21875 37.203125 74.21875 \r\nQ 40.921875 74.21875 44.703125 73.484375 \r\nQ 48.484375 72.75 52.59375 71.296875 \r\nz\r\n\" id=\"DejaVuSans-54\"/>\r\n     </defs>\r\n     <use xlink:href=\"#DejaVuSans-54\"/>\r\n     <use x=\"63.623047\" xlink:href=\"#DejaVuSans-49\"/>\r\n    </g>\r\n   </g>\r\n   <g id=\"text_8\">\r\n    <!-- 8 -->\r\n    <g style=\"fill:#ffffff;\" transform=\"translate(235.255 64.319375)scale(0.1 -0.1)\">\r\n     <defs>\r\n      <path d=\"M 31.78125 34.625 \r\nQ 24.75 34.625 20.71875 30.859375 \r\nQ 16.703125 27.09375 16.703125 20.515625 \r\nQ 16.703125 13.921875 20.71875 10.15625 \r\nQ 24.75 6.390625 31.78125 6.390625 \r\nQ 38.8125 6.390625 42.859375 10.171875 \r\nQ 46.921875 13.96875 46.921875 20.515625 \r\nQ 46.921875 27.09375 42.890625 30.859375 \r\nQ 38.875 34.625 31.78125 34.625 \r\nz\r\nM 21.921875 38.8125 \r\nQ 15.578125 40.375 12.03125 44.71875 \r\nQ 8.5 49.078125 8.5 55.328125 \r\nQ 8.5 64.0625 14.71875 69.140625 \r\nQ 20.953125 74.21875 31.78125 74.21875 \r\nQ 42.671875 74.21875 48.875 69.140625 \r\nQ 55.078125 64.0625 55.078125 55.328125 \r\nQ 55.078125 49.078125 51.53125 44.71875 \r\nQ 48 40.375 41.703125 38.8125 \r\nQ 48.828125 37.15625 52.796875 32.3125 \r\nQ 56.78125 27.484375 56.78125 20.515625 \r\nQ 56.78125 9.90625 50.3125 4.234375 \r\nQ 43.84375 -1.421875 31.78125 -1.421875 \r\nQ 19.734375 -1.421875 13.25 4.234375 \r\nQ 6.78125 9.90625 6.78125 20.515625 \r\nQ 6.78125 27.484375 10.78125 32.3125 \r\nQ 14.796875 37.15625 21.921875 38.8125 \r\nz\r\nM 18.3125 54.390625 \r\nQ 18.3125 48.734375 21.84375 45.5625 \r\nQ 25.390625 42.390625 31.78125 42.390625 \r\nQ 38.140625 42.390625 41.71875 45.5625 \r\nQ 45.3125 48.734375 45.3125 54.390625 \r\nQ 45.3125 60.0625 41.71875 63.234375 \r\nQ 38.140625 66.40625 31.78125 66.40625 \r\nQ 25.390625 66.40625 21.84375 63.234375 \r\nQ 18.3125 60.0625 18.3125 54.390625 \r\nz\r\n\" id=\"DejaVuSans-56\"/>\r\n     </defs>\r\n     <use xlink:href=\"#DejaVuSans-56\"/>\r\n    </g>\r\n   </g>\r\n   <g id=\"text_9\">\r\n    <!-- 0 -->\r\n    <g style=\"fill:#ffffff;\" transform=\"translate(101.335 173.039375)scale(0.1 -0.1)\">\r\n     <defs>\r\n      <path d=\"M 31.78125 66.40625 \r\nQ 24.171875 66.40625 20.328125 58.90625 \r\nQ 16.5 51.421875 16.5 36.375 \r\nQ 16.5 21.390625 20.328125 13.890625 \r\nQ 24.171875 6.390625 31.78125 6.390625 \r\nQ 39.453125 6.390625 43.28125 13.890625 \r\nQ 47.125 21.390625 47.125 36.375 \r\nQ 47.125 51.421875 43.28125 58.90625 \r\nQ 39.453125 66.40625 31.78125 66.40625 \r\nz\r\nM 31.78125 74.21875 \r\nQ 44.046875 74.21875 50.515625 64.515625 \r\nQ 56.984375 54.828125 56.984375 36.375 \r\nQ 56.984375 17.96875 50.515625 8.265625 \r\nQ 44.046875 -1.421875 31.78125 -1.421875 \r\nQ 19.53125 -1.421875 13.0625 8.265625 \r\nQ 6.59375 17.96875 6.59375 36.375 \r\nQ 6.59375 54.828125 13.0625 64.515625 \r\nQ 19.53125 74.21875 31.78125 74.21875 \r\nz\r\n\" id=\"DejaVuSans-48\"/>\r\n     </defs>\r\n     <use xlink:href=\"#DejaVuSans-48\"/>\r\n    </g>\r\n   </g>\r\n   <g id=\"text_10\">\r\n    <!-- 63 -->\r\n    <g style=\"fill:#262626;\" transform=\"translate(232.07375 173.039375)scale(0.1 -0.1)\">\r\n     <defs>\r\n      <path d=\"M 40.578125 39.3125 \r\nQ 47.65625 37.796875 51.625 33 \r\nQ 55.609375 28.21875 55.609375 21.1875 \r\nQ 55.609375 10.40625 48.1875 4.484375 \r\nQ 40.765625 -1.421875 27.09375 -1.421875 \r\nQ 22.515625 -1.421875 17.65625 -0.515625 \r\nQ 12.796875 0.390625 7.625 2.203125 \r\nL 7.625 11.71875 \r\nQ 11.71875 9.328125 16.59375 8.109375 \r\nQ 21.484375 6.890625 26.8125 6.890625 \r\nQ 36.078125 6.890625 40.9375 10.546875 \r\nQ 45.796875 14.203125 45.796875 21.1875 \r\nQ 45.796875 27.640625 41.28125 31.265625 \r\nQ 36.765625 34.90625 28.71875 34.90625 \r\nL 20.21875 34.90625 \r\nL 20.21875 43.015625 \r\nL 29.109375 43.015625 \r\nQ 36.375 43.015625 40.234375 45.921875 \r\nQ 44.09375 48.828125 44.09375 54.296875 \r\nQ 44.09375 59.90625 40.109375 62.90625 \r\nQ 36.140625 65.921875 28.71875 65.921875 \r\nQ 24.65625 65.921875 20.015625 65.03125 \r\nQ 15.375 64.15625 9.8125 62.3125 \r\nL 9.8125 71.09375 \r\nQ 15.4375 72.65625 20.34375 73.4375 \r\nQ 25.25 74.21875 29.59375 74.21875 \r\nQ 40.828125 74.21875 47.359375 69.109375 \r\nQ 53.90625 64.015625 53.90625 55.328125 \r\nQ 53.90625 49.265625 50.4375 45.09375 \r\nQ 46.96875 40.921875 40.578125 39.3125 \r\nz\r\n\" id=\"DejaVuSans-51\"/>\r\n     </defs>\r\n     <use xlink:href=\"#DejaVuSans-54\"/>\r\n     <use x=\"63.623047\" xlink:href=\"#DejaVuSans-51\"/>\r\n    </g>\r\n   </g>\r\n  </g>\r\n  <g id=\"axes_2\">\r\n   <g id=\"patch_3\">\r\n    <path clip-path=\"url(#p21bc8ae783)\" d=\"M 322.13625 224.64 \r\nL 322.13625 223.790625 \r\nL 322.13625 8.049375 \r\nL 322.13625 7.2 \r\nL 333.00825 7.2 \r\nL 333.00825 8.049375 \r\nL 333.00825 223.790625 \r\nL 333.00825 224.64 \r\nz\r\n\" style=\"fill:#ffffff;stroke:#ffffff;stroke-linejoin:miter;stroke-width:0.01;\"/>\r\n   </g>\r\n   <image height=\"217\" id=\"image361d896464\" transform=\"scale(1 -1)translate(0 -217)\" width=\"11\" x=\"322\" xlink:href=\"data:image/png;base64,\r\niVBORw0KGgoAAAANSUhEUgAAAAsAAADZCAYAAAD2WsoCAAABUklEQVR4nNXaQQ4CMQxD0aYNl+D+94Qr9C0spawty/l1Ogyi+vP9rctPV9WtdvWufS9GZxDXijmL+AiNXIwtNHIDDsmMzjCg0chVdIazlX/KccuAa0T5bcBrqXZjCA0r/7U02g2KkdwUiJEbEE9wSPljrYs559D1kIUVMdE4MechA+7r1wOnQeLYdpN4CA2JkaNxJAYet4ifpHGvtgFz90b/IDNyTtEocr43Xn1izphZxHAqFuMUxYgViZxFfKB25oyZr7XJGBsuu64h6GAJMUaOhqG71qIzDpiKQc4r1o3dEsNoPOgMN3QXPIEsxhJnixEcMCWmX3ssBrzWJA+FxPL7s3xZ69rinMts6MT55I77QXRGg2KMoFG03cY5Jra7jsp//6Qfk9liDKExo0g0YC5zzLlKtrtfpBG7vqQbxnlGN9b5TIhB/7JI3nVC48UBYVP+AnwtI+Zj1xQAAAAASUVORK5CYII=\" y=\"-7\"/>\r\n   <g id=\"matplotlib.axis_3\"/>\r\n   <g id=\"matplotlib.axis_4\">\r\n    <g id=\"ytick_3\">\r\n     <g id=\"line2d_5\">\r\n      <defs>\r\n       <path d=\"M 0 0 \r\nL 3.5 0 \r\n\" id=\"mcf9b47fa84\" style=\"stroke:#000000;stroke-width:0.8;\"/>\r\n      </defs>\r\n      <g>\r\n       <use style=\"stroke:#000000;stroke-width:0.8;\" x=\"333.00825\" xlink:href=\"#mcf9b47fa84\" y=\"224.64\"/>\r\n      </g>\r\n     </g>\r\n     <g id=\"text_11\">\r\n      <!-- 0 -->\r\n      <g transform=\"translate(340.00825 228.439219)scale(0.1 -0.1)\">\r\n       <use xlink:href=\"#DejaVuSans-48\"/>\r\n      </g>\r\n     </g>\r\n    </g>\r\n    <g id=\"ytick_4\">\r\n     <g id=\"line2d_6\">\r\n      <g>\r\n       <use style=\"stroke:#000000;stroke-width:0.8;\" x=\"333.00825\" xlink:href=\"#mcf9b47fa84\" y=\"190.125714\"/>\r\n      </g>\r\n     </g>\r\n     <g id=\"text_12\">\r\n      <!-- 10 -->\r\n      <g transform=\"translate(340.00825 193.924933)scale(0.1 -0.1)\">\r\n       <use xlink:href=\"#DejaVuSans-49\"/>\r\n       <use x=\"63.623047\" xlink:href=\"#DejaVuSans-48\"/>\r\n      </g>\r\n     </g>\r\n    </g>\r\n    <g id=\"ytick_5\">\r\n     <g id=\"line2d_7\">\r\n      <g>\r\n       <use style=\"stroke:#000000;stroke-width:0.8;\" x=\"333.00825\" xlink:href=\"#mcf9b47fa84\" y=\"155.611429\"/>\r\n      </g>\r\n     </g>\r\n     <g id=\"text_13\">\r\n      <!-- 20 -->\r\n      <g transform=\"translate(340.00825 159.410647)scale(0.1 -0.1)\">\r\n       <defs>\r\n        <path d=\"M 19.1875 8.296875 \r\nL 53.609375 8.296875 \r\nL 53.609375 0 \r\nL 7.328125 0 \r\nL 7.328125 8.296875 \r\nQ 12.9375 14.109375 22.625 23.890625 \r\nQ 32.328125 33.6875 34.8125 36.53125 \r\nQ 39.546875 41.84375 41.421875 45.53125 \r\nQ 43.3125 49.21875 43.3125 52.78125 \r\nQ 43.3125 58.59375 39.234375 62.25 \r\nQ 35.15625 65.921875 28.609375 65.921875 \r\nQ 23.96875 65.921875 18.8125 64.3125 \r\nQ 13.671875 62.703125 7.8125 59.421875 \r\nL 7.8125 69.390625 \r\nQ 13.765625 71.78125 18.9375 73 \r\nQ 24.125 74.21875 28.421875 74.21875 \r\nQ 39.75 74.21875 46.484375 68.546875 \r\nQ 53.21875 62.890625 53.21875 53.421875 \r\nQ 53.21875 48.921875 51.53125 44.890625 \r\nQ 49.859375 40.875 45.40625 35.40625 \r\nQ 44.1875 33.984375 37.640625 27.21875 \r\nQ 31.109375 20.453125 19.1875 8.296875 \r\nz\r\n\" id=\"DejaVuSans-50\"/>\r\n       </defs>\r\n       <use xlink:href=\"#DejaVuSans-50\"/>\r\n       <use x=\"63.623047\" xlink:href=\"#DejaVuSans-48\"/>\r\n      </g>\r\n     </g>\r\n    </g>\r\n    <g id=\"ytick_6\">\r\n     <g id=\"line2d_8\">\r\n      <g>\r\n       <use style=\"stroke:#000000;stroke-width:0.8;\" x=\"333.00825\" xlink:href=\"#mcf9b47fa84\" y=\"121.097143\"/>\r\n      </g>\r\n     </g>\r\n     <g id=\"text_14\">\r\n      <!-- 30 -->\r\n      <g transform=\"translate(340.00825 124.896362)scale(0.1 -0.1)\">\r\n       <use xlink:href=\"#DejaVuSans-51\"/>\r\n       <use x=\"63.623047\" xlink:href=\"#DejaVuSans-48\"/>\r\n      </g>\r\n     </g>\r\n    </g>\r\n    <g id=\"ytick_7\">\r\n     <g id=\"line2d_9\">\r\n      <g>\r\n       <use style=\"stroke:#000000;stroke-width:0.8;\" x=\"333.00825\" xlink:href=\"#mcf9b47fa84\" y=\"86.582857\"/>\r\n      </g>\r\n     </g>\r\n     <g id=\"text_15\">\r\n      <!-- 40 -->\r\n      <g transform=\"translate(340.00825 90.382076)scale(0.1 -0.1)\">\r\n       <defs>\r\n        <path d=\"M 37.796875 64.3125 \r\nL 12.890625 25.390625 \r\nL 37.796875 25.390625 \r\nz\r\nM 35.203125 72.90625 \r\nL 47.609375 72.90625 \r\nL 47.609375 25.390625 \r\nL 58.015625 25.390625 \r\nL 58.015625 17.1875 \r\nL 47.609375 17.1875 \r\nL 47.609375 0 \r\nL 37.796875 0 \r\nL 37.796875 17.1875 \r\nL 4.890625 17.1875 \r\nL 4.890625 26.703125 \r\nz\r\n\" id=\"DejaVuSans-52\"/>\r\n       </defs>\r\n       <use xlink:href=\"#DejaVuSans-52\"/>\r\n       <use x=\"63.623047\" xlink:href=\"#DejaVuSans-48\"/>\r\n      </g>\r\n     </g>\r\n    </g>\r\n    <g id=\"ytick_8\">\r\n     <g id=\"line2d_10\">\r\n      <g>\r\n       <use style=\"stroke:#000000;stroke-width:0.8;\" x=\"333.00825\" xlink:href=\"#mcf9b47fa84\" y=\"52.068571\"/>\r\n      </g>\r\n     </g>\r\n     <g id=\"text_16\">\r\n      <!-- 50 -->\r\n      <g transform=\"translate(340.00825 55.86779)scale(0.1 -0.1)\">\r\n       <defs>\r\n        <path d=\"M 10.796875 72.90625 \r\nL 49.515625 72.90625 \r\nL 49.515625 64.59375 \r\nL 19.828125 64.59375 \r\nL 19.828125 46.734375 \r\nQ 21.96875 47.46875 24.109375 47.828125 \r\nQ 26.265625 48.1875 28.421875 48.1875 \r\nQ 40.625 48.1875 47.75 41.5 \r\nQ 54.890625 34.8125 54.890625 23.390625 \r\nQ 54.890625 11.625 47.5625 5.09375 \r\nQ 40.234375 -1.421875 26.90625 -1.421875 \r\nQ 22.3125 -1.421875 17.546875 -0.640625 \r\nQ 12.796875 0.140625 7.71875 1.703125 \r\nL 7.71875 11.625 \r\nQ 12.109375 9.234375 16.796875 8.0625 \r\nQ 21.484375 6.890625 26.703125 6.890625 \r\nQ 35.15625 6.890625 40.078125 11.328125 \r\nQ 45.015625 15.765625 45.015625 23.390625 \r\nQ 45.015625 31 40.078125 35.4375 \r\nQ 35.15625 39.890625 26.703125 39.890625 \r\nQ 22.75 39.890625 18.8125 39.015625 \r\nQ 14.890625 38.140625 10.796875 36.28125 \r\nz\r\n\" id=\"DejaVuSans-53\"/>\r\n       </defs>\r\n       <use xlink:href=\"#DejaVuSans-53\"/>\r\n       <use x=\"63.623047\" xlink:href=\"#DejaVuSans-48\"/>\r\n      </g>\r\n     </g>\r\n    </g>\r\n    <g id=\"ytick_9\">\r\n     <g id=\"line2d_11\">\r\n      <g>\r\n       <use style=\"stroke:#000000;stroke-width:0.8;\" x=\"333.00825\" xlink:href=\"#mcf9b47fa84\" y=\"17.554286\"/>\r\n      </g>\r\n     </g>\r\n     <g id=\"text_17\">\r\n      <!-- 60 -->\r\n      <g transform=\"translate(340.00825 21.353504)scale(0.1 -0.1)\">\r\n       <use xlink:href=\"#DejaVuSans-54\"/>\r\n       <use x=\"63.623047\" xlink:href=\"#DejaVuSans-48\"/>\r\n      </g>\r\n     </g>\r\n    </g>\r\n   </g>\r\n   <g id=\"patch_4\">\r\n    <path d=\"M 322.13625 224.64 \r\nL 322.13625 223.790625 \r\nL 322.13625 8.049375 \r\nL 322.13625 7.2 \r\nL 333.00825 7.2 \r\nL 333.00825 8.049375 \r\nL 333.00825 223.790625 \r\nL 333.00825 224.64 \r\nz\r\n\" style=\"fill:none;\"/>\r\n   </g>\r\n  </g>\r\n </g>\r\n <defs>\r\n  <clipPath id=\"p15445b8b36\">\r\n   <rect height=\"217.44\" width=\"267.84\" x=\"37.55625\" y=\"7.2\"/>\r\n  </clipPath>\r\n  <clipPath id=\"p21bc8ae783\">\r\n   <rect height=\"217.44\" width=\"10.872\" x=\"322.13625\" y=\"7.2\"/>\r\n  </clipPath>\r\n </defs>\r\n</svg>\r\n",
      "image/png": "[encoded data removed]"
     },
     "metadata": {
      "needs_background": "light"
     }
    }
   ],
   "source": [
    "singlepredict=[]\n",
    "singletest=[]\n",
    "predict=model.predict([x_test])\n",
    "tf.config.run_functions_eagerly(True)\n",
    "print(tf.executing_eagerly())# if false then confusion.numpy will produce error\n",
    "singlepredict=np.argmax(predict,1)\n",
    "singletest=np.array(y_test)\n",
    "confusion=tf.math.confusion_matrix(labels=singletest, predictions=singlepredict).numpy()\n",
    "#plt.imshow(confusion) # Green Confusion Matrix\n",
    "sns.heatmap(confusion , annot=True , xticklabels=['Healthy' , 'Covid-19'] , yticklabels=['Healthy' , 'Covid-19'])\n",
    "plt.xlabel('Predicted')\n",
    "plt.ylabel('True')\n",
    "plt.show()"
   ]
  },
  {
   "cell_type": "markdown",
   "id": "incorporated-thermal",
   "metadata": {
    "heading_collapsed": true
   },
   "source": [
    "# Metrics"
   ]
  },
  {
   "cell_type": "code",
   "execution_count": 8,
   "id": "disciplinary-trust",
   "metadata": {
    "hidden": true
   },
   "outputs": [
    {
     "output_type": "stream",
     "name": "stdout",
     "text": [
      "Precision: [1.         0.88732394], Aversge: 0.943661971830986\nRecall: [0.88405797 1.        ], Average: 0.9420289855072463\nF-score: [0.93846154 0.94029851], Average: 0.9393800229621125\n"
     ]
    }
   ],
   "source": [
    "precision, recall, f1, _ = score(singletest, singlepredict)\n",
    "print('Precision: {}, Aversge: {}'.format(precision,sum(precision)/len(precision)))\n",
    "print('Recall: {}, Average: {}'.format(recall,sum(recall)/len(recall)))\n",
    "print('F-score: {}, Average: {}'.format(f1,sum(f1)/len(f1)))\n"
   ]
  },
  {
   "cell_type": "code",
   "execution_count": null,
   "id": "czech-myrtle",
   "metadata": {
    "ExecuteTime": {
     "start_time": "2021-04-20T12:29:38.239Z"
    },
    "hidden": true
   },
   "outputs": [],
   "source": [
    "acc = model.history.history['accuracy']\n",
    "val_acc = model.history.history['val_acc']\n",
    "val_loss = model.history.history['val_loss']\n",
    "loss = model.history.history['loss']\n",
    "epochs = range(1, len(acc) + 1)\n",
    "\n",
    "plt.plot(epochs, [i*100 for i in acc], 'green', label='Training acc')\n",
    "plt.plot(epochs,[i*100 for i in val_acc], 'blue', label='Validation acc')\n",
    "\n",
    "plt.plot(epochs, [i*100 for i in loss], 'red', label='Training loss')\n",
    "plt.plot(epochs,[i*100 for i in val_loss], 'black', label='Validation loss')\n",
    "plt.title('Training, validation accuaracy and loss over epochs')#'Training and validation loss'\n",
    "plt.legend()\n",
    "\n",
    "plt.show()"
   ]
  },
  {
   "cell_type": "markdown",
   "id": "thirty-hindu",
   "metadata": {},
   "source": [
    "# Some visulization into some cases in the dataset, the prediction and the true output."
   ]
  },
  {
   "cell_type": "code",
   "execution_count": null,
   "id": "crazy-wisconsin",
   "metadata": {
    "ExecuteTime": {
     "end_time": "2021-05-07T00:00:19.834591Z",
     "start_time": "2021-05-07T00:00:16.082401Z"
    }
   },
   "outputs": [],
   "source": [
    "predict=model.predict([x_test]) # ignore if you run the cells above"
   ]
  },
  {
   "cell_type": "code",
   "execution_count": null,
   "id": "atmospheric-turner",
   "metadata": {
    "ExecuteTime": {
     "end_time": "2021-05-07T00:00:21.758941Z",
     "start_time": "2021-05-07T00:00:19.854264Z"
    }
   },
   "outputs": [],
   "source": [
    "def simpleargmax(n):\n",
    "    if list(n).index(max(n))==0:\n",
    "        return \"Healthy\"\n",
    "    elif list(n).index(max(n))==1:\n",
    "        return \"COVID-19\"\n",
    "def label(m):\n",
    "    if m==0:\n",
    "        return \"Healthy\"\n",
    "    elif m==1:\n",
    "        return \"COVID-19\"\n",
    "for i in range(30):\n",
    "    plt.figure(figsize = (2.5,2.5))\n",
    "    val=random.randint(0,len(x_test)-1)\n",
    "    plt.axis(\"off\")\n",
    "    plt.imshow(x_test[val])\n",
    "    plt.title(\"Prediction:{}. True:{}\".format(simpleargmax(predict[val]),label(y_test[val])))\n",
    "    plt.show()"
   ]
  }
 ],
 "metadata": {
  "kernelspec": {
   "name": "python385jvsc74a57bd083edcf9d6691da80da87185edf1e2ec27aa1177a09f7d029aea1a0cb99dd36f7",
   "display_name": "Python 3.8.5 64-bit ('base': conda)"
  },
  "language_info": {
   "codemirror_mode": {
    "name": "ipython",
    "version": 3
   },
   "file_extension": ".py",
   "mimetype": "text/x-python",
   "name": "python",
   "nbconvert_exporter": "python",
   "pygments_lexer": "ipython3",
   "version": "3.8.5"
  },
  "latex_envs": {
   "LaTeX_envs_menu_present": true,
   "autoclose": false,
   "autocomplete": true,
   "bibliofile": "biblio.bib",
   "cite_by": "apalike",
   "current_citInitial": 1,
   "eqLabelWithNumbers": true,
   "eqNumInitial": 1,
   "hotkeys": {
    "equation": "Ctrl-E",
    "itemize": "Ctrl-I"
   },
   "labels_anchors": false,
   "latex_user_defs": false,
   "report_style_numbering": false,
   "user_envs_cfg": false
  },
  "metadata": {
   "interpreter": {
    "hash": "83edcf9d6691da80da87185edf1e2ec27aa1177a09f7d029aea1a0cb99dd36f7"
   }
  },
  "toc": {
   "base_numbering": 1,
   "nav_menu": {},
   "number_sections": true,
   "sideBar": true,
   "skip_h1_title": false,
   "title_cell": "Table of Contents",
   "title_sidebar": "Contents",
   "toc_cell": false,
   "toc_position": {},
   "toc_section_display": true,
   "toc_window_display": false
  },
  "varInspector": {
   "cols": {
    "lenName": 16,
    "lenType": 16,
    "lenVar": 40
   },
   "kernels_config": {
    "python": {
     "delete_cmd_postfix": "",
     "delete_cmd_prefix": "del ",
     "library": "var_list.py",
     "varRefreshCmd": "print(var_dic_list())"
    },
    "r": {
     "delete_cmd_postfix": ") ",
     "delete_cmd_prefix": "rm(",
     "library": "var_list.r",
     "varRefreshCmd": "cat(var_dic_list()) "
    }
   },
   "types_to_exclude": [
    "module",
    "function",
    "builtin_function_or_method",
    "instance",
    "_Feature"
   ],
   "window_display": false
  }
 },
 "nbformat": 4,
 "nbformat_minor": 5
}